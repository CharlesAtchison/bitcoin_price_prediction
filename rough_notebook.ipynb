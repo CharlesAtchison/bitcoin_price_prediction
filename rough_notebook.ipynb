{
 "cells": [
  {
   "cell_type": "code",
   "execution_count": 1,
   "id": "185d54d9",
   "metadata": {},
   "outputs": [],
   "source": [
    "import warnings\n",
    "warnings.filterwarnings('ignore')\n",
    "\n",
    "import pandas as pd\n",
    "import numpy as np\n",
    "import requests, json\n",
    "\n",
    "from datetime import datetime\n",
    "from sklearn.metrics import mean_squared_error\n",
    "from math import sqrt\n",
    "\n",
    "from IPython.display import Markdown\n",
    "\n",
    "from acquire import *\n",
    "from prepare import *\n",
    "\n",
    "import matplotlib.pyplot as plt\n",
    "import seaborn as sns\n",
    "from pandas.plotting  import register_matplotlib_converters\n",
    "\n",
    "import statsmodels.api as sm\n",
    "from statsmodels.tsa.api import Holt"
   ]
  },
  {
   "cell_type": "code",
   "execution_count": 2,
   "id": "6536b338",
   "metadata": {},
   "outputs": [],
   "source": [
    "def time_split(df, train_size = .5, validate_size = .3):\n",
    "    '''Splits time series data based on percentages and returns train, validate, test THE\n",
    "    DATAFRAME MUST BE CHRONOLOGICALLY SORTED!'''\n",
    "    t_size = int(len(df) * train_size)\n",
    "    v_size = int(len(df) * validate_size)\n",
    "    end = t_size + v_size\n",
    "    return df[0:t_size], df[t_size:end], df[end:len(df)+1]\n",
    "\n",
    "def plot_samples(target_var):\n",
    "    '''\n",
    "   plot each attribute \n",
    "   '''\n",
    "    plt.figure(figsize = (12,4))\n",
    "    sns.lineplot(data=train[target_var], label='train')\n",
    "    sns.lineplot(data=validate[target_var], label='validate')\n",
    "    sns.lineplot(data=test[target_var], label='test')\n",
    "    plt.title(target_var.title())\n",
    "    plt.legend()\n",
    "    \n",
    "def evaluate(target_var):\n",
    "    '''\n",
    "    the evaluate function will take in the actual values and the predicted values\n",
    "    and compute the mean_squared_error and then take the sqrt returning a rounded rmse\n",
    "    '''\n",
    "    rmse = round(sqrt(mean_squared_error(validate[target_var], yhat_df[target_var])),0)\n",
    "    return rmse\n",
    "\n",
    "def plot_and_eval(target_var):\n",
    "    '''\n",
    "    a function to evaluate forecasts by computing the rmse and plot train and validate along with predictions\n",
    "    '''\n",
    "    plot_samples(target_var)\n",
    "    sns.lineplot(data=yhat_df[target_var], label='RMSE')\n",
    "    plt.title(target_var)\n",
    "    rmse = evaluate(target_var)\n",
    "    print(target_var, f'--RMSE: {rmse:.0f}')\n",
    "    plt.show()\n",
    "\n",
    "def append_eval_df(model_type, target_var):\n",
    "    '''\n",
    "    this function will take in the model type as a string, target variable\n",
    "    as a string, and run the evaluate function to compute rmse, \n",
    "    and append to the dataframe a row with the model type, \n",
    "    target variable and rmse. \n",
    "    '''\n",
    "    rmse = evaluate(target_var)\n",
    "    d= {'model_type':[model_type], 'target_var':[target_var], 'rmse':[rmse]}\n",
    "    d= pd.DataFrame(d)\n",
    "    return eval_df.append(d, ignore_index= True)\n",
    "\n",
    "def previous_plot_and_eval(target_var):\n",
    "    '''\n",
    "    a function to evaluate forecasts by computing the rmse and plot train and validate along with predictions\n",
    "    '''\n",
    "    rmse = evaluate(target_var)\n",
    "    print(target_var, f'--RMSE: {rmse:.0f}')\n",
    "    return rmse\n"
   ]
  },
  {
   "cell_type": "code",
   "execution_count": 3,
   "id": "dbe6503e",
   "metadata": {
    "scrolled": true
   },
   "outputs": [
    {
     "data": {
      "text/markdown": [
       "### Data Dict\n",
       "\n",
       "| Feature           | Datatype                         | Definition                                                 |\n",
       "|:------------------|:---------------------------------|:-----------------------------------------------------------|\n",
       "| Timestamp         | 4857377 non-null: datetime64[ns] | start tiem of time window (60s window), in Unix Time       |\n",
       "| Open              | 3613769 non-null: float64        | Open price at start time window                            |\n",
       "| High              | 3613769 non-null: float64        | High price within the time window                          |\n",
       "| Low               | 3613769 non-null: float64        | Low price within the time window                           |\n",
       "| Close             | 3613769 non-null: float64        | Close price at the end of the time window                  |\n",
       "| Volume_(BTC)      | 3613769 non-null: float64        | Volume of BTC transacted in this window                    |\n",
       "| Volume_(Currency) | 3613769 non-null: float64        | Volume of corresponding currency transacted in this window |\n",
       "| Weighted_Price    | 3613769 non-null: float64        | VWAP - Volume Weighted Average Price                       |"
      ],
      "text/plain": [
       "<IPython.core.display.Markdown object>"
      ]
     },
     "execution_count": 3,
     "metadata": {},
     "output_type": "execute_result"
    }
   ],
   "source": [
    "df = pd.read_csv('bitstampUSD_1-min_data_2012-01-01_to_2021-03-31.csv')\n",
    "df.Timestamp = pd.to_datetime(df.Timestamp, unit='s')\n",
    "Markdown(fetch_data_dict(df))\n"
   ]
  },
  {
   "cell_type": "code",
   "execution_count": 4,
   "id": "6e97dfb4",
   "metadata": {},
   "outputs": [
    {
     "data": {
      "text/markdown": [
       "| Timestamp           |    Open |    High |     Low |   Close |   Volume_(BTC) |   Volume_(Currency) |   Weighted_Price |\n",
       "|:--------------------|--------:|--------:|--------:|--------:|---------------:|--------------------:|-----------------:|\n",
       "| 2021-03-30 23:56:00 | 58714.3 | 58714.3 | 58686   | 58686   |       1.38449  |             81259.4 |          58692.8 |\n",
       "| 2021-03-30 23:57:00 | 58684   | 58693.4 | 58684   | 58685.8 |       7.29485  |            428158   |          58693.2 |\n",
       "| 2021-03-30 23:58:00 | 58693.4 | 58723.8 | 58693.4 | 58723.8 |       1.70568  |            100117   |          58696.2 |\n",
       "| 2021-03-30 23:59:00 | 58742.2 | 58770.4 | 58742.2 | 58760.6 |       0.720415 |             42333   |          58761.9 |\n",
       "| 2021-03-31 00:00:00 | 58767.8 | 58778.2 | 58756   | 58778.2 |       2.71283  |            159418   |          58764.3 |"
      ],
      "text/plain": [
       "<IPython.core.display.Markdown object>"
      ]
     },
     "execution_count": 4,
     "metadata": {},
     "output_type": "execute_result"
    }
   ],
   "source": [
    "df = df.set_index('Timestamp')\n",
    "Markdown(df.tail().to_markdown())"
   ]
  },
  {
   "cell_type": "markdown",
   "id": "c7b74835",
   "metadata": {},
   "source": [
    "## Calculate other metrics from data\n",
    "> - Calculate month name, day names and price vairation from minute to minute"
   ]
  },
  {
   "cell_type": "code",
   "execution_count": 5,
   "id": "b1475eca",
   "metadata": {
    "scrolled": true
   },
   "outputs": [
    {
     "data": {
      "text/markdown": [
       "| Timestamp           |    Open |    High |     Low |   Close |   Volume_(BTC) |   Volume_(Currency) |   Weighted_Price | day_of_week   | month   |   minute_price_diff |   price_delta |   day_num |   percent_change |\n",
       "|:--------------------|--------:|--------:|--------:|--------:|---------------:|--------------------:|-----------------:|:--------------|:--------|--------------------:|--------------:|----------:|-----------------:|\n",
       "| 2021-03-30 23:56:00 | 58714.3 | 58714.3 | 58686   | 58686   |       1.38449  |             81259.4 |          58692.8 | Tuesday       | 03_Mar  |              -28.31 |         28.31 |        30 |      -0.0482165  |\n",
       "| 2021-03-30 23:57:00 | 58684   | 58693.4 | 58684   | 58685.8 |       7.29485  |            428158   |          58693.2 | Tuesday       | 03_Mar  |                1.84 |          9.46 |        30 |       0.00313544 |\n",
       "| 2021-03-30 23:58:00 | 58693.4 | 58723.8 | 58693.4 | 58723.8 |       1.70568  |            100117   |          58696.2 | Tuesday       | 03_Mar  |               30.41 |         30.41 |        30 |       0.0518116  |\n",
       "| 2021-03-30 23:59:00 | 58742.2 | 58770.4 | 58742.2 | 58760.6 |       0.720415 |             42333   |          58761.9 | Tuesday       | 03_Mar  |               18.41 |         28.2  |        30 |       0.0313403  |\n",
       "| 2021-03-31 00:00:00 | 58767.8 | 58778.2 | 58756   | 58778.2 |       2.71283  |            159418   |          58764.3 | Wednesday     | 03_Mar  |               10.43 |         22.21 |        31 |       0.0177478  |"
      ],
      "text/plain": [
       "<IPython.core.display.Markdown object>"
      ]
     },
     "execution_count": 5,
     "metadata": {},
     "output_type": "execute_result"
    }
   ],
   "source": [
    "df = prep_bitcoin_data(df)\n",
    "Markdown(df.tail().to_markdown())"
   ]
  },
  {
   "cell_type": "code",
   "execution_count": 7,
   "id": "6f77ed8e",
   "metadata": {},
   "outputs": [
    {
     "data": {
      "text/markdown": [
       "### Data Dict\n",
       "\n",
       "| Feature           | Datatype                  | Definition                                                 |\n",
       "|:------------------|:--------------------------|:-----------------------------------------------------------|\n",
       "| Open              | 4857377 non-null: float64 | Open price at start time window                            |\n",
       "| High              | 4857377 non-null: float64 | High price within the time window                          |\n",
       "| Low               | 4857377 non-null: float64 | Low price within the time window                           |\n",
       "| Close             | 4857377 non-null: float64 | Close price at the end of the time window                  |\n",
       "| Volume_(BTC)      | 4857377 non-null: float64 | Volume of BTC transacted in this window                    |\n",
       "| Volume_(Currency) | 4857377 non-null: float64 | Volume of corresponding currency transacted in this window |\n",
       "| Weighted_Price    | 4857377 non-null: float64 | VWAP - Volume Weighted Average Price                       |\n",
       "| day_of_week       | 4857377 non-null: object  | Verbose name of the week                                   |\n",
       "| month             | 4857377 non-null: object  | Month number and month name                                |\n",
       "| minute_price_diff | 4857377 non-null: float64 | Delta between the Close and Open                           |\n",
       "| price_delta       | 4857377 non-null: float64 | Delta between the High and Low                             |\n",
       "| day_num           | 4857377 non-null: int64   | The numeric number of the day of the month                 |\n",
       "| percent_change    | 4857377 non-null: float64 | Price difference / Open price represented as a percentage  |"
      ],
      "text/plain": [
       "<IPython.core.display.Markdown object>"
      ]
     },
     "execution_count": 7,
     "metadata": {},
     "output_type": "execute_result"
    }
   ],
   "source": [
    "Markdown(fetch_data_dict(df))"
   ]
  }
 ],
 "metadata": {
  "kernelspec": {
   "display_name": "Python 3",
   "language": "python",
   "name": "python3"
  },
  "language_info": {
   "codemirror_mode": {
    "name": "ipython",
    "version": 3
   },
   "file_extension": ".py",
   "mimetype": "text/x-python",
   "name": "python",
   "nbconvert_exporter": "python",
   "pygments_lexer": "ipython3",
   "version": "3.8.8"
  }
 },
 "nbformat": 4,
 "nbformat_minor": 5
}
