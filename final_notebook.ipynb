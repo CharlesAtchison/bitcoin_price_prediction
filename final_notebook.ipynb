{
 "cells": [
  {
   "cell_type": "markdown",
   "id": "88ca0f24",
   "metadata": {},
   "source": [
    "# Bitcoin Price Prediction Time-Series Project"
   ]
  },
  {
   "cell_type": "code",
   "execution_count": null,
   "id": "e15202a3",
   "metadata": {},
   "outputs": [],
   "source": []
  },
  {
   "cell_type": "markdown",
   "id": "7561ea12",
   "metadata": {},
   "source": [
    "### Data Dictonary\n",
    "| Feature           | Datatype                         | Definition                                                 |\n",
    "|:------------------|:---------------------------------|:-----------------------------------------------------------|\n",
    "| Timestamp         | 4857377 non-null: datetime64[ns] | start tiem of time window (60s window), in Unix Time       |\n",
    "| Open              | 3613769 non-null: float64        | Open price at start time window                            |\n",
    "| High              | 3613769 non-null: float64        | High price within the time window                          |\n",
    "| Low               | 3613769 non-null: float64        | Low price within the time window                           |\n",
    "| Close             | 3613769 non-null: float64        | Close price at the end of the time window                  |\n",
    "| Volume_(BTC)      | 3613769 non-null: float64        | Volume of BTC transacted in this window                    |\n",
    "| Volume_(Currency) | 3613769 non-null: float64        | Volume of corresponding currency transacted in this window |\n",
    "| Weighted_Price    | 3613769 non-null: float64        | VWAP - Volume Weighted Average Price         "
   ]
  },
  {
   "cell_type": "code",
   "execution_count": null,
   "id": "3bad1673",
   "metadata": {},
   "outputs": [],
   "source": []
  }
 ],
 "metadata": {
  "kernelspec": {
   "display_name": "Python 3",
   "language": "python",
   "name": "python3"
  },
  "language_info": {
   "codemirror_mode": {
    "name": "ipython",
    "version": 3
   },
   "file_extension": ".py",
   "mimetype": "text/x-python",
   "name": "python",
   "nbconvert_exporter": "python",
   "pygments_lexer": "ipython3",
   "version": "3.8.8"
  }
 },
 "nbformat": 4,
 "nbformat_minor": 5
}
