{
 "cells": [
  {
   "cell_type": "markdown",
   "id": "6105c1c3",
   "metadata": {},
   "source": [
    "# Bitcoin Price Prediction Time-Series Project"
   ]
  },
  {
   "cell_type": "markdown",
   "id": "3087741f",
   "metadata": {},
   "source": [
    "## Import Modules"
   ]
  },
  {
   "cell_type": "code",
   "execution_count": 1,
   "id": "6106cfb7",
   "metadata": {},
   "outputs": [],
   "source": [
    "import warnings\n",
    "warnings.filterwarnings('ignore')\n",
    "\n",
    "import pandas as pd\n",
    "import numpy as np\n",
    "import requests, json\n",
    "\n",
    "from datetime import datetime\n",
    "from sklearn.metrics import mean_squared_error\n",
    "from math import sqrt\n",
    "\n",
    "import matplotlib.pyplot as plt\n",
    "import seaborn as sns\n",
    "from pandas.plotting  import register_matplotlib_converters\n",
    "\n",
    "import statsmodels.api as sm\n",
    "from statsmodels.tsa.api import Holt\n",
    "\n",
    "from IPython.display import Markdown\n",
    "\n",
    "from acquire import *"
   ]
  },
  {
   "cell_type": "code",
   "execution_count": 2,
   "id": "d50b4612",
   "metadata": {},
   "outputs": [
    {
     "data": {
      "text/markdown": [
       "### Data Dict\n",
       "\n",
       "| Feature           | Datatype                         | Definition                                                 |\n",
       "|:------------------|:---------------------------------|:-----------------------------------------------------------|\n",
       "| Timestamp         | 4857377 non-null: datetime64[ns] | start tiem of time window (60s window), in Unix Time       |\n",
       "| Open              | 3613769 non-null: float64        | Open price at start time window                            |\n",
       "| High              | 3613769 non-null: float64        | High price within the time window                          |\n",
       "| Low               | 3613769 non-null: float64        | Low price within the time window                           |\n",
       "| Close             | 3613769 non-null: float64        | Close price at the end of the time window                  |\n",
       "| Volume_(BTC)      | 3613769 non-null: float64        | Volume of BTC transacted in this window                    |\n",
       "| Volume_(Currency) | 3613769 non-null: float64        | Volume of corresponding currency transacted in this window |\n",
       "| Weighted_Price    | 3613769 non-null: float64        | VWAP - Volume Weighted Average Price                       |"
      ],
      "text/plain": [
       "<IPython.core.display.Markdown object>"
      ]
     },
     "execution_count": 2,
     "metadata": {},
     "output_type": "execute_result"
    }
   ],
   "source": [
    "df = pd.read_csv('bitstampUSD_1-min_data_2012-01-01_to_2021-03-31.csv')\n",
    "df.Timestamp = pd.to_datetime(df.Timestamp, unit='s')\n",
    "Markdown(fetch_data_dict(df))"
   ]
  },
  {
   "cell_type": "code",
   "execution_count": 3,
   "id": "13456335",
   "metadata": {},
   "outputs": [
    {
     "data": {
      "text/markdown": [
       "### Data Tail\n",
       "\n",
       "| Timestamp           |    Open |    High |     Low |   Close |   Volume_(BTC) |   Volume_(Currency) |   Weighted_Price |\n",
       "|:--------------------|--------:|--------:|--------:|--------:|---------------:|--------------------:|-----------------:|\n",
       "| 2021-03-30 23:56:00 | 58714.3 | 58714.3 | 58686   | 58686   |       1.38449  |             81259.4 |          58692.8 |\n",
       "| 2021-03-30 23:57:00 | 58684   | 58693.4 | 58684   | 58685.8 |       7.29485  |            428158   |          58693.2 |\n",
       "| 2021-03-30 23:58:00 | 58693.4 | 58723.8 | 58693.4 | 58723.8 |       1.70568  |            100117   |          58696.2 |\n",
       "| 2021-03-30 23:59:00 | 58742.2 | 58770.4 | 58742.2 | 58760.6 |       0.720415 |             42333   |          58761.9 |\n",
       "| 2021-03-31 00:00:00 | 58767.8 | 58778.2 | 58756   | 58778.2 |       2.71283  |            159418   |          58764.3 |"
      ],
      "text/plain": [
       "<IPython.core.display.Markdown object>"
      ]
     },
     "execution_count": 3,
     "metadata": {},
     "output_type": "execute_result"
    }
   ],
   "source": [
    "df = df.set_index('Timestamp')\n",
    "result = '### Data Tail\\n\\n' + df.tail().to_markdown()\n",
    "Markdown(result)"
   ]
  },
  {
   "cell_type": "code",
   "execution_count": null,
   "id": "a6589519",
   "metadata": {},
   "outputs": [],
   "source": []
  }
 ],
 "metadata": {
  "kernelspec": {
   "display_name": "Python 3",
   "language": "python",
   "name": "python3"
  },
  "language_info": {
   "codemirror_mode": {
    "name": "ipython",
    "version": 3
   },
   "file_extension": ".py",
   "mimetype": "text/x-python",
   "name": "python",
   "nbconvert_exporter": "python",
   "pygments_lexer": "ipython3",
   "version": "3.8.8"
  }
 },
 "nbformat": 4,
 "nbformat_minor": 5
}
